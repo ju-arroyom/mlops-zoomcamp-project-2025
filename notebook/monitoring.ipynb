{
 "cells": [
  {
   "cell_type": "code",
   "execution_count": 64,
   "metadata": {},
   "outputs": [],
   "source": [
    "import os\n",
    "import mlflow\n",
    "import pandas as pd\n",
    "from evidently import Report\n",
    "from evidently import DataDefinition\n",
    "from evidently import Dataset\n",
    "from evidently.metrics import ValueDrift, DriftedColumnsCount, MissingValueCount\n"
   ]
  },
  {
   "cell_type": "code",
   "execution_count": 65,
   "metadata": {},
   "outputs": [],
   "source": [
    "reference_data = pd.read_parquet(\"../src/mlops/data/train_dataset.parquet\")\n",
    "raw_data = pd.read_parquet(\"../src/mlops/data/test_dataset.parquet\").reset_index(drop=True)"
   ]
  },
  {
   "cell_type": "code",
   "execution_count": 66,
   "metadata": {},
   "outputs": [],
   "source": [
    "def identify_categorical_encoded_vars(df, maxcat=8):\n",
    "    categorical = []\n",
    "    for c in df.columns:\n",
    "        unique_values = df[c].unique()\n",
    "        if (len(unique_values) < maxcat) & (c!='target'):\n",
    "            categorical.append(c)\n",
    "    return categorical"
   ]
  },
  {
   "cell_type": "code",
   "execution_count": 67,
   "metadata": {},
   "outputs": [],
   "source": [
    "def load_model():\n",
    "    mlflow.set_tracking_uri(os.getenv(\"MLFLOW_TRACKING_URI\", \"http://localhost:5500\"))\n",
    "    experiment_name = os.getenv(\"EXPERIMENT_NAME\", \"xgb_best_model\")\n",
    "    model_uri = f\"models:/{experiment_name}/latest\"\n",
    "    model = mlflow.pyfunc.load_model(model_uri)\n",
    "    return model"
   ]
  },
  {
   "cell_type": "code",
   "execution_count": 69,
   "metadata": {},
   "outputs": [
    {
     "data": {
      "text/plain": [
       "['sex', 'cp', 'fbs', 'restecg', 'exang', 'slope', 'ca', 'thal']"
      ]
     },
     "execution_count": 69,
     "metadata": {},
     "output_type": "execute_result"
    }
   ],
   "source": [
    "categorical_vars = identify_categorical_encoded_vars(raw_data)\n",
    "categorical_vars"
   ]
  },
  {
   "cell_type": "code",
   "execution_count": 70,
   "metadata": {},
   "outputs": [
    {
     "data": {
      "text/plain": [
       "['age', 'trestbps', 'chol', 'thalach', 'oldpeak']"
      ]
     },
     "execution_count": 70,
     "metadata": {},
     "output_type": "execute_result"
    }
   ],
   "source": [
    "numerical_vars = [x for x in raw_data.columns if x not in categorical_vars and x!='target']\n",
    "numerical_vars"
   ]
  },
  {
   "cell_type": "code",
   "execution_count": 27,
   "metadata": {},
   "outputs": [],
   "source": [
    "data_definition = DataDefinition(\n",
    "    numerical_columns=numerical_vars + ['prediction'],\n",
    "    categorical_columns=categorical_vars,\n",
    ")"
   ]
  },
  {
   "cell_type": "code",
   "execution_count": 28,
   "metadata": {},
   "outputs": [],
   "source": [
    "report = Report(metrics = [\n",
    "    ValueDrift(column='prediction'),\n",
    "    DriftedColumnsCount(),\n",
    "    MissingValueCount(column='prediction'),\n",
    "])"
   ]
  },
  {
   "cell_type": "code",
   "execution_count": 29,
   "metadata": {},
   "outputs": [
    {
     "data": {
      "application/vnd.jupyter.widget-view+json": {
       "model_id": "e415c1e8d81c4c26b6a54d31c50cf864",
       "version_major": 2,
       "version_minor": 0
      },
      "text/plain": [
       "Downloading artifacts:   0%|          | 0/5 [00:00<?, ?it/s]"
      ]
     },
     "metadata": {},
     "output_type": "display_data"
    }
   ],
   "source": [
    "model = load_model()"
   ]
  },
  {
   "cell_type": "code",
   "execution_count": 54,
   "metadata": {},
   "outputs": [],
   "source": [
    "reference_data[\"prediction\"] = (model.predict(reference_data.drop(\"target\", axis=1)) > 0.5).astype(int)"
   ]
  },
  {
   "cell_type": "code",
   "execution_count": 61,
   "metadata": {},
   "outputs": [],
   "source": [
    "def calculate_metrics(i):\n",
    "    current_data = raw_data.iloc[[i]]\n",
    "\n",
    "    current_data['prediction'] = model.predict(current_data[numerical_vars + categorical_vars])\n",
    "    current_dataset = Dataset.from_pandas(current_data, data_definition=data_definition)\n",
    "    reference_dataset = Dataset.from_pandas(reference_data, data_definition=data_definition)\n",
    "    run = report.run(reference_data=reference_dataset, current_data=current_dataset)\n",
    "    result = run.dict()\n",
    "    prediction_drift = result['metrics'][0]['value']\n",
    "    num_drifted_columns = result['metrics'][1]['value']['count']\n",
    "    share_missing_values = result['metrics'][2]['value']['share']\n",
    "    return prediction_drift, num_drifted_columns, share_missing_values"
   ]
  },
  {
   "cell_type": "code",
   "execution_count": 63,
   "metadata": {},
   "outputs": [
    {
     "name": "stderr",
     "output_type": "stream",
     "text": [
      "/Users/juanarroyomiranda/Documents/Github/mlops-zoomcamp-project-2025/.venv/lib/python3.11/site-packages/scipy/stats/_stats_py.py:7400: RuntimeWarning:\n",
      "\n",
      "divide by zero encountered in divide\n",
      "\n",
      "/Users/juanarroyomiranda/Documents/Github/mlops-zoomcamp-project-2025/.venv/lib/python3.11/site-packages/numpy/lib/_function_base_impl.py:3057: RuntimeWarning:\n",
      "\n",
      "Degrees of freedom <= 0 for slice\n",
      "\n",
      "/Users/juanarroyomiranda/Documents/Github/mlops-zoomcamp-project-2025/.venv/lib/python3.11/site-packages/numpy/lib/_function_base_impl.py:2914: RuntimeWarning:\n",
      "\n",
      "divide by zero encountered in divide\n",
      "\n",
      "/Users/juanarroyomiranda/Documents/Github/mlops-zoomcamp-project-2025/.venv/lib/python3.11/site-packages/numpy/lib/_function_base_impl.py:2914: RuntimeWarning:\n",
      "\n",
      "invalid value encountered in multiply\n",
      "\n",
      "/Users/juanarroyomiranda/Documents/Github/mlops-zoomcamp-project-2025/.venv/lib/python3.11/site-packages/scipy/stats/_stats_py.py:7400: RuntimeWarning:\n",
      "\n",
      "divide by zero encountered in divide\n",
      "\n",
      "/Users/juanarroyomiranda/Documents/Github/mlops-zoomcamp-project-2025/.venv/lib/python3.11/site-packages/scipy/stats/_stats_py.py:7400: RuntimeWarning:\n",
      "\n",
      "divide by zero encountered in divide\n",
      "\n",
      "/Users/juanarroyomiranda/Documents/Github/mlops-zoomcamp-project-2025/.venv/lib/python3.11/site-packages/numpy/lib/_function_base_impl.py:3057: RuntimeWarning:\n",
      "\n",
      "Degrees of freedom <= 0 for slice\n",
      "\n",
      "/Users/juanarroyomiranda/Documents/Github/mlops-zoomcamp-project-2025/.venv/lib/python3.11/site-packages/numpy/lib/_function_base_impl.py:2914: RuntimeWarning:\n",
      "\n",
      "divide by zero encountered in divide\n",
      "\n",
      "/Users/juanarroyomiranda/Documents/Github/mlops-zoomcamp-project-2025/.venv/lib/python3.11/site-packages/numpy/lib/_function_base_impl.py:2914: RuntimeWarning:\n",
      "\n",
      "invalid value encountered in multiply\n",
      "\n",
      "/Users/juanarroyomiranda/Documents/Github/mlops-zoomcamp-project-2025/.venv/lib/python3.11/site-packages/scipy/stats/_stats_py.py:7400: RuntimeWarning:\n",
      "\n",
      "divide by zero encountered in divide\n",
      "\n",
      "/Users/juanarroyomiranda/Documents/Github/mlops-zoomcamp-project-2025/.venv/lib/python3.11/site-packages/scipy/stats/_stats_py.py:7400: RuntimeWarning:\n",
      "\n",
      "divide by zero encountered in divide\n",
      "\n",
      "/Users/juanarroyomiranda/Documents/Github/mlops-zoomcamp-project-2025/.venv/lib/python3.11/site-packages/numpy/lib/_function_base_impl.py:3057: RuntimeWarning:\n",
      "\n",
      "Degrees of freedom <= 0 for slice\n",
      "\n",
      "/Users/juanarroyomiranda/Documents/Github/mlops-zoomcamp-project-2025/.venv/lib/python3.11/site-packages/numpy/lib/_function_base_impl.py:2914: RuntimeWarning:\n",
      "\n",
      "divide by zero encountered in divide\n",
      "\n",
      "/Users/juanarroyomiranda/Documents/Github/mlops-zoomcamp-project-2025/.venv/lib/python3.11/site-packages/numpy/lib/_function_base_impl.py:2914: RuntimeWarning:\n",
      "\n",
      "invalid value encountered in multiply\n",
      "\n",
      "/Users/juanarroyomiranda/Documents/Github/mlops-zoomcamp-project-2025/.venv/lib/python3.11/site-packages/scipy/stats/_stats_py.py:7400: RuntimeWarning:\n",
      "\n",
      "divide by zero encountered in divide\n",
      "\n",
      "/Users/juanarroyomiranda/Documents/Github/mlops-zoomcamp-project-2025/.venv/lib/python3.11/site-packages/scipy/stats/_stats_py.py:7400: RuntimeWarning:\n",
      "\n",
      "divide by zero encountered in divide\n",
      "\n",
      "/Users/juanarroyomiranda/Documents/Github/mlops-zoomcamp-project-2025/.venv/lib/python3.11/site-packages/numpy/lib/_function_base_impl.py:3057: RuntimeWarning:\n",
      "\n",
      "Degrees of freedom <= 0 for slice\n",
      "\n",
      "/Users/juanarroyomiranda/Documents/Github/mlops-zoomcamp-project-2025/.venv/lib/python3.11/site-packages/numpy/lib/_function_base_impl.py:2914: RuntimeWarning:\n",
      "\n",
      "divide by zero encountered in divide\n",
      "\n",
      "/Users/juanarroyomiranda/Documents/Github/mlops-zoomcamp-project-2025/.venv/lib/python3.11/site-packages/numpy/lib/_function_base_impl.py:2914: RuntimeWarning:\n",
      "\n",
      "invalid value encountered in multiply\n",
      "\n",
      "/Users/juanarroyomiranda/Documents/Github/mlops-zoomcamp-project-2025/.venv/lib/python3.11/site-packages/scipy/stats/_stats_py.py:7400: RuntimeWarning:\n",
      "\n",
      "divide by zero encountered in divide\n",
      "\n",
      "/Users/juanarroyomiranda/Documents/Github/mlops-zoomcamp-project-2025/.venv/lib/python3.11/site-packages/scipy/stats/_stats_py.py:7400: RuntimeWarning:\n",
      "\n",
      "divide by zero encountered in divide\n",
      "\n",
      "/Users/juanarroyomiranda/Documents/Github/mlops-zoomcamp-project-2025/.venv/lib/python3.11/site-packages/numpy/lib/_function_base_impl.py:3057: RuntimeWarning:\n",
      "\n",
      "Degrees of freedom <= 0 for slice\n",
      "\n",
      "/Users/juanarroyomiranda/Documents/Github/mlops-zoomcamp-project-2025/.venv/lib/python3.11/site-packages/numpy/lib/_function_base_impl.py:2914: RuntimeWarning:\n",
      "\n",
      "divide by zero encountered in divide\n",
      "\n",
      "/Users/juanarroyomiranda/Documents/Github/mlops-zoomcamp-project-2025/.venv/lib/python3.11/site-packages/numpy/lib/_function_base_impl.py:2914: RuntimeWarning:\n",
      "\n",
      "invalid value encountered in multiply\n",
      "\n",
      "/Users/juanarroyomiranda/Documents/Github/mlops-zoomcamp-project-2025/.venv/lib/python3.11/site-packages/scipy/stats/_stats_py.py:7400: RuntimeWarning:\n",
      "\n",
      "divide by zero encountered in divide\n",
      "\n",
      "/Users/juanarroyomiranda/Documents/Github/mlops-zoomcamp-project-2025/.venv/lib/python3.11/site-packages/scipy/stats/_stats_py.py:7400: RuntimeWarning:\n",
      "\n",
      "divide by zero encountered in divide\n",
      "\n",
      "/Users/juanarroyomiranda/Documents/Github/mlops-zoomcamp-project-2025/.venv/lib/python3.11/site-packages/numpy/lib/_function_base_impl.py:3057: RuntimeWarning:\n",
      "\n",
      "Degrees of freedom <= 0 for slice\n",
      "\n",
      "/Users/juanarroyomiranda/Documents/Github/mlops-zoomcamp-project-2025/.venv/lib/python3.11/site-packages/numpy/lib/_function_base_impl.py:2914: RuntimeWarning:\n",
      "\n",
      "divide by zero encountered in divide\n",
      "\n",
      "/Users/juanarroyomiranda/Documents/Github/mlops-zoomcamp-project-2025/.venv/lib/python3.11/site-packages/numpy/lib/_function_base_impl.py:2914: RuntimeWarning:\n",
      "\n",
      "invalid value encountered in multiply\n",
      "\n"
     ]
    },
    {
     "name": "stdout",
     "output_type": "stream",
     "text": [
      "10 (np.float64(0.0), 2.0, np.float64(0.0))\n",
      "11 (np.float64(0.0), 1.0, np.float64(0.0))\n",
      "12 (np.float64(0.0), 2.0, np.float64(0.0))\n",
      "13 (np.float64(0.0), 1.0, np.float64(0.0))\n",
      "14 (np.float64(0.0), 1.0, np.float64(0.0))\n",
      "15 (np.float64(0.0), 1.0, np.float64(0.0))\n"
     ]
    },
    {
     "name": "stderr",
     "output_type": "stream",
     "text": [
      "/Users/juanarroyomiranda/Documents/Github/mlops-zoomcamp-project-2025/.venv/lib/python3.11/site-packages/scipy/stats/_stats_py.py:7400: RuntimeWarning:\n",
      "\n",
      "divide by zero encountered in divide\n",
      "\n",
      "/Users/juanarroyomiranda/Documents/Github/mlops-zoomcamp-project-2025/.venv/lib/python3.11/site-packages/scipy/stats/_stats_py.py:7400: RuntimeWarning:\n",
      "\n",
      "divide by zero encountered in divide\n",
      "\n",
      "/Users/juanarroyomiranda/Documents/Github/mlops-zoomcamp-project-2025/.venv/lib/python3.11/site-packages/numpy/lib/_function_base_impl.py:3057: RuntimeWarning:\n",
      "\n",
      "Degrees of freedom <= 0 for slice\n",
      "\n",
      "/Users/juanarroyomiranda/Documents/Github/mlops-zoomcamp-project-2025/.venv/lib/python3.11/site-packages/numpy/lib/_function_base_impl.py:2914: RuntimeWarning:\n",
      "\n",
      "divide by zero encountered in divide\n",
      "\n",
      "/Users/juanarroyomiranda/Documents/Github/mlops-zoomcamp-project-2025/.venv/lib/python3.11/site-packages/numpy/lib/_function_base_impl.py:2914: RuntimeWarning:\n",
      "\n",
      "invalid value encountered in multiply\n",
      "\n",
      "/Users/juanarroyomiranda/Documents/Github/mlops-zoomcamp-project-2025/.venv/lib/python3.11/site-packages/scipy/stats/_stats_py.py:7400: RuntimeWarning:\n",
      "\n",
      "divide by zero encountered in divide\n",
      "\n",
      "/Users/juanarroyomiranda/Documents/Github/mlops-zoomcamp-project-2025/.venv/lib/python3.11/site-packages/scipy/stats/_stats_py.py:7400: RuntimeWarning:\n",
      "\n",
      "divide by zero encountered in divide\n",
      "\n",
      "/Users/juanarroyomiranda/Documents/Github/mlops-zoomcamp-project-2025/.venv/lib/python3.11/site-packages/numpy/lib/_function_base_impl.py:3057: RuntimeWarning:\n",
      "\n",
      "Degrees of freedom <= 0 for slice\n",
      "\n",
      "/Users/juanarroyomiranda/Documents/Github/mlops-zoomcamp-project-2025/.venv/lib/python3.11/site-packages/numpy/lib/_function_base_impl.py:2914: RuntimeWarning:\n",
      "\n",
      "divide by zero encountered in divide\n",
      "\n",
      "/Users/juanarroyomiranda/Documents/Github/mlops-zoomcamp-project-2025/.venv/lib/python3.11/site-packages/numpy/lib/_function_base_impl.py:2914: RuntimeWarning:\n",
      "\n",
      "invalid value encountered in multiply\n",
      "\n",
      "/Users/juanarroyomiranda/Documents/Github/mlops-zoomcamp-project-2025/.venv/lib/python3.11/site-packages/scipy/stats/_stats_py.py:7400: RuntimeWarning:\n",
      "\n",
      "divide by zero encountered in divide\n",
      "\n",
      "/Users/juanarroyomiranda/Documents/Github/mlops-zoomcamp-project-2025/.venv/lib/python3.11/site-packages/scipy/stats/_stats_py.py:7400: RuntimeWarning:\n",
      "\n",
      "divide by zero encountered in divide\n",
      "\n",
      "/Users/juanarroyomiranda/Documents/Github/mlops-zoomcamp-project-2025/.venv/lib/python3.11/site-packages/numpy/lib/_function_base_impl.py:3057: RuntimeWarning:\n",
      "\n",
      "Degrees of freedom <= 0 for slice\n",
      "\n",
      "/Users/juanarroyomiranda/Documents/Github/mlops-zoomcamp-project-2025/.venv/lib/python3.11/site-packages/numpy/lib/_function_base_impl.py:2914: RuntimeWarning:\n",
      "\n",
      "divide by zero encountered in divide\n",
      "\n",
      "/Users/juanarroyomiranda/Documents/Github/mlops-zoomcamp-project-2025/.venv/lib/python3.11/site-packages/numpy/lib/_function_base_impl.py:2914: RuntimeWarning:\n",
      "\n",
      "invalid value encountered in multiply\n",
      "\n",
      "/Users/juanarroyomiranda/Documents/Github/mlops-zoomcamp-project-2025/.venv/lib/python3.11/site-packages/scipy/stats/_stats_py.py:7400: RuntimeWarning:\n",
      "\n",
      "divide by zero encountered in divide\n",
      "\n",
      "/Users/juanarroyomiranda/Documents/Github/mlops-zoomcamp-project-2025/.venv/lib/python3.11/site-packages/scipy/stats/_stats_py.py:7400: RuntimeWarning:\n",
      "\n",
      "divide by zero encountered in divide\n",
      "\n",
      "/Users/juanarroyomiranda/Documents/Github/mlops-zoomcamp-project-2025/.venv/lib/python3.11/site-packages/numpy/lib/_function_base_impl.py:3057: RuntimeWarning:\n",
      "\n",
      "Degrees of freedom <= 0 for slice\n",
      "\n",
      "/Users/juanarroyomiranda/Documents/Github/mlops-zoomcamp-project-2025/.venv/lib/python3.11/site-packages/numpy/lib/_function_base_impl.py:2914: RuntimeWarning:\n",
      "\n",
      "divide by zero encountered in divide\n",
      "\n",
      "/Users/juanarroyomiranda/Documents/Github/mlops-zoomcamp-project-2025/.venv/lib/python3.11/site-packages/numpy/lib/_function_base_impl.py:2914: RuntimeWarning:\n",
      "\n",
      "invalid value encountered in multiply\n",
      "\n",
      "/Users/juanarroyomiranda/Documents/Github/mlops-zoomcamp-project-2025/.venv/lib/python3.11/site-packages/scipy/stats/_stats_py.py:7400: RuntimeWarning:\n",
      "\n",
      "divide by zero encountered in divide\n",
      "\n",
      "/Users/juanarroyomiranda/Documents/Github/mlops-zoomcamp-project-2025/.venv/lib/python3.11/site-packages/scipy/stats/_stats_py.py:7400: RuntimeWarning:\n",
      "\n",
      "divide by zero encountered in divide\n",
      "\n",
      "/Users/juanarroyomiranda/Documents/Github/mlops-zoomcamp-project-2025/.venv/lib/python3.11/site-packages/numpy/lib/_function_base_impl.py:3057: RuntimeWarning:\n",
      "\n",
      "Degrees of freedom <= 0 for slice\n",
      "\n",
      "/Users/juanarroyomiranda/Documents/Github/mlops-zoomcamp-project-2025/.venv/lib/python3.11/site-packages/numpy/lib/_function_base_impl.py:2914: RuntimeWarning:\n",
      "\n",
      "divide by zero encountered in divide\n",
      "\n",
      "/Users/juanarroyomiranda/Documents/Github/mlops-zoomcamp-project-2025/.venv/lib/python3.11/site-packages/numpy/lib/_function_base_impl.py:2914: RuntimeWarning:\n",
      "\n",
      "invalid value encountered in multiply\n",
      "\n",
      "/Users/juanarroyomiranda/Documents/Github/mlops-zoomcamp-project-2025/.venv/lib/python3.11/site-packages/scipy/stats/_stats_py.py:7400: RuntimeWarning:\n",
      "\n",
      "divide by zero encountered in divide\n",
      "\n",
      "/Users/juanarroyomiranda/Documents/Github/mlops-zoomcamp-project-2025/.venv/lib/python3.11/site-packages/scipy/stats/_stats_py.py:7400: RuntimeWarning:\n",
      "\n",
      "divide by zero encountered in divide\n",
      "\n"
     ]
    },
    {
     "name": "stdout",
     "output_type": "stream",
     "text": [
      "16 (np.float64(0.0), 1.0, np.float64(0.0))\n",
      "17 (np.float64(0.0), 2.0, np.float64(0.0))\n",
      "18 (np.float64(0.0), 3.0, np.float64(0.0))\n",
      "19 (np.float64(0.0), 1.0, np.float64(0.0))\n",
      "20 (np.float64(0.0), 2.0, np.float64(0.0))\n",
      "21 (np.float64(0.0), 1.0, np.float64(0.0))\n"
     ]
    },
    {
     "name": "stderr",
     "output_type": "stream",
     "text": [
      "/Users/juanarroyomiranda/Documents/Github/mlops-zoomcamp-project-2025/.venv/lib/python3.11/site-packages/numpy/lib/_function_base_impl.py:3057: RuntimeWarning:\n",
      "\n",
      "Degrees of freedom <= 0 for slice\n",
      "\n",
      "/Users/juanarroyomiranda/Documents/Github/mlops-zoomcamp-project-2025/.venv/lib/python3.11/site-packages/numpy/lib/_function_base_impl.py:2914: RuntimeWarning:\n",
      "\n",
      "divide by zero encountered in divide\n",
      "\n",
      "/Users/juanarroyomiranda/Documents/Github/mlops-zoomcamp-project-2025/.venv/lib/python3.11/site-packages/numpy/lib/_function_base_impl.py:2914: RuntimeWarning:\n",
      "\n",
      "invalid value encountered in multiply\n",
      "\n",
      "/Users/juanarroyomiranda/Documents/Github/mlops-zoomcamp-project-2025/.venv/lib/python3.11/site-packages/scipy/stats/_stats_py.py:7400: RuntimeWarning:\n",
      "\n",
      "divide by zero encountered in divide\n",
      "\n",
      "/Users/juanarroyomiranda/Documents/Github/mlops-zoomcamp-project-2025/.venv/lib/python3.11/site-packages/scipy/stats/_stats_py.py:7400: RuntimeWarning:\n",
      "\n",
      "divide by zero encountered in divide\n",
      "\n",
      "/Users/juanarroyomiranda/Documents/Github/mlops-zoomcamp-project-2025/.venv/lib/python3.11/site-packages/numpy/lib/_function_base_impl.py:3057: RuntimeWarning:\n",
      "\n",
      "Degrees of freedom <= 0 for slice\n",
      "\n",
      "/Users/juanarroyomiranda/Documents/Github/mlops-zoomcamp-project-2025/.venv/lib/python3.11/site-packages/numpy/lib/_function_base_impl.py:2914: RuntimeWarning:\n",
      "\n",
      "divide by zero encountered in divide\n",
      "\n",
      "/Users/juanarroyomiranda/Documents/Github/mlops-zoomcamp-project-2025/.venv/lib/python3.11/site-packages/numpy/lib/_function_base_impl.py:2914: RuntimeWarning:\n",
      "\n",
      "invalid value encountered in multiply\n",
      "\n",
      "/Users/juanarroyomiranda/Documents/Github/mlops-zoomcamp-project-2025/.venv/lib/python3.11/site-packages/scipy/stats/_stats_py.py:7400: RuntimeWarning:\n",
      "\n",
      "divide by zero encountered in divide\n",
      "\n",
      "/Users/juanarroyomiranda/Documents/Github/mlops-zoomcamp-project-2025/.venv/lib/python3.11/site-packages/scipy/stats/_stats_py.py:7400: RuntimeWarning:\n",
      "\n",
      "divide by zero encountered in divide\n",
      "\n",
      "/Users/juanarroyomiranda/Documents/Github/mlops-zoomcamp-project-2025/.venv/lib/python3.11/site-packages/numpy/lib/_function_base_impl.py:3057: RuntimeWarning:\n",
      "\n",
      "Degrees of freedom <= 0 for slice\n",
      "\n",
      "/Users/juanarroyomiranda/Documents/Github/mlops-zoomcamp-project-2025/.venv/lib/python3.11/site-packages/numpy/lib/_function_base_impl.py:2914: RuntimeWarning:\n",
      "\n",
      "divide by zero encountered in divide\n",
      "\n",
      "/Users/juanarroyomiranda/Documents/Github/mlops-zoomcamp-project-2025/.venv/lib/python3.11/site-packages/numpy/lib/_function_base_impl.py:2914: RuntimeWarning:\n",
      "\n",
      "invalid value encountered in multiply\n",
      "\n",
      "/Users/juanarroyomiranda/Documents/Github/mlops-zoomcamp-project-2025/.venv/lib/python3.11/site-packages/scipy/stats/_stats_py.py:7400: RuntimeWarning:\n",
      "\n",
      "divide by zero encountered in divide\n",
      "\n",
      "/Users/juanarroyomiranda/Documents/Github/mlops-zoomcamp-project-2025/.venv/lib/python3.11/site-packages/scipy/stats/_stats_py.py:7400: RuntimeWarning:\n",
      "\n",
      "divide by zero encountered in divide\n",
      "\n",
      "/Users/juanarroyomiranda/Documents/Github/mlops-zoomcamp-project-2025/.venv/lib/python3.11/site-packages/numpy/lib/_function_base_impl.py:3057: RuntimeWarning:\n",
      "\n",
      "Degrees of freedom <= 0 for slice\n",
      "\n",
      "/Users/juanarroyomiranda/Documents/Github/mlops-zoomcamp-project-2025/.venv/lib/python3.11/site-packages/numpy/lib/_function_base_impl.py:2914: RuntimeWarning:\n",
      "\n",
      "divide by zero encountered in divide\n",
      "\n",
      "/Users/juanarroyomiranda/Documents/Github/mlops-zoomcamp-project-2025/.venv/lib/python3.11/site-packages/numpy/lib/_function_base_impl.py:2914: RuntimeWarning:\n",
      "\n",
      "invalid value encountered in multiply\n",
      "\n",
      "/Users/juanarroyomiranda/Documents/Github/mlops-zoomcamp-project-2025/.venv/lib/python3.11/site-packages/scipy/stats/_stats_py.py:7400: RuntimeWarning:\n",
      "\n",
      "divide by zero encountered in divide\n",
      "\n",
      "/Users/juanarroyomiranda/Documents/Github/mlops-zoomcamp-project-2025/.venv/lib/python3.11/site-packages/scipy/stats/_stats_py.py:7400: RuntimeWarning:\n",
      "\n",
      "divide by zero encountered in divide\n",
      "\n",
      "/Users/juanarroyomiranda/Documents/Github/mlops-zoomcamp-project-2025/.venv/lib/python3.11/site-packages/numpy/lib/_function_base_impl.py:3057: RuntimeWarning:\n",
      "\n",
      "Degrees of freedom <= 0 for slice\n",
      "\n",
      "/Users/juanarroyomiranda/Documents/Github/mlops-zoomcamp-project-2025/.venv/lib/python3.11/site-packages/numpy/lib/_function_base_impl.py:2914: RuntimeWarning:\n",
      "\n",
      "divide by zero encountered in divide\n",
      "\n",
      "/Users/juanarroyomiranda/Documents/Github/mlops-zoomcamp-project-2025/.venv/lib/python3.11/site-packages/numpy/lib/_function_base_impl.py:2914: RuntimeWarning:\n",
      "\n",
      "invalid value encountered in multiply\n",
      "\n",
      "/Users/juanarroyomiranda/Documents/Github/mlops-zoomcamp-project-2025/.venv/lib/python3.11/site-packages/scipy/stats/_stats_py.py:7400: RuntimeWarning:\n",
      "\n",
      "divide by zero encountered in divide\n",
      "\n",
      "/Users/juanarroyomiranda/Documents/Github/mlops-zoomcamp-project-2025/.venv/lib/python3.11/site-packages/scipy/stats/_stats_py.py:7400: RuntimeWarning:\n",
      "\n",
      "divide by zero encountered in divide\n",
      "\n",
      "/Users/juanarroyomiranda/Documents/Github/mlops-zoomcamp-project-2025/.venv/lib/python3.11/site-packages/numpy/lib/_function_base_impl.py:3057: RuntimeWarning:\n",
      "\n",
      "Degrees of freedom <= 0 for slice\n",
      "\n",
      "/Users/juanarroyomiranda/Documents/Github/mlops-zoomcamp-project-2025/.venv/lib/python3.11/site-packages/numpy/lib/_function_base_impl.py:2914: RuntimeWarning:\n",
      "\n",
      "divide by zero encountered in divide\n",
      "\n",
      "/Users/juanarroyomiranda/Documents/Github/mlops-zoomcamp-project-2025/.venv/lib/python3.11/site-packages/numpy/lib/_function_base_impl.py:2914: RuntimeWarning:\n",
      "\n",
      "invalid value encountered in multiply\n",
      "\n",
      "/Users/juanarroyomiranda/Documents/Github/mlops-zoomcamp-project-2025/.venv/lib/python3.11/site-packages/scipy/stats/_stats_py.py:7400: RuntimeWarning:\n",
      "\n",
      "divide by zero encountered in divide\n",
      "\n"
     ]
    },
    {
     "name": "stdout",
     "output_type": "stream",
     "text": [
      "22 (np.float64(0.0), 2.0, np.float64(0.0))\n",
      "23 (np.float64(0.0), 1.0, np.float64(0.0))\n",
      "24 (np.float64(0.0), 2.0, np.float64(0.0))\n",
      "25 (np.float64(0.0), 3.0, np.float64(0.0))\n",
      "26 (np.float64(0.0), 5.0, np.float64(0.0))\n",
      "27 (np.float64(0.0), 3.0, np.float64(0.0))\n"
     ]
    },
    {
     "name": "stderr",
     "output_type": "stream",
     "text": [
      "/Users/juanarroyomiranda/Documents/Github/mlops-zoomcamp-project-2025/.venv/lib/python3.11/site-packages/scipy/stats/_stats_py.py:7400: RuntimeWarning:\n",
      "\n",
      "divide by zero encountered in divide\n",
      "\n",
      "/Users/juanarroyomiranda/Documents/Github/mlops-zoomcamp-project-2025/.venv/lib/python3.11/site-packages/numpy/lib/_function_base_impl.py:3057: RuntimeWarning:\n",
      "\n",
      "Degrees of freedom <= 0 for slice\n",
      "\n",
      "/Users/juanarroyomiranda/Documents/Github/mlops-zoomcamp-project-2025/.venv/lib/python3.11/site-packages/numpy/lib/_function_base_impl.py:2914: RuntimeWarning:\n",
      "\n",
      "divide by zero encountered in divide\n",
      "\n",
      "/Users/juanarroyomiranda/Documents/Github/mlops-zoomcamp-project-2025/.venv/lib/python3.11/site-packages/numpy/lib/_function_base_impl.py:2914: RuntimeWarning:\n",
      "\n",
      "invalid value encountered in multiply\n",
      "\n",
      "/Users/juanarroyomiranda/Documents/Github/mlops-zoomcamp-project-2025/.venv/lib/python3.11/site-packages/scipy/stats/_stats_py.py:7400: RuntimeWarning:\n",
      "\n",
      "divide by zero encountered in divide\n",
      "\n",
      "/Users/juanarroyomiranda/Documents/Github/mlops-zoomcamp-project-2025/.venv/lib/python3.11/site-packages/scipy/stats/_stats_py.py:7400: RuntimeWarning:\n",
      "\n",
      "divide by zero encountered in divide\n",
      "\n"
     ]
    },
    {
     "name": "stdout",
     "output_type": "stream",
     "text": [
      "28 (np.float64(0.0), 2.0, np.float64(0.0))\n",
      "29 (np.float64(0.0), 1.0, np.float64(0.0))\n"
     ]
    },
    {
     "name": "stderr",
     "output_type": "stream",
     "text": [
      "/Users/juanarroyomiranda/Documents/Github/mlops-zoomcamp-project-2025/.venv/lib/python3.11/site-packages/numpy/lib/_function_base_impl.py:3057: RuntimeWarning:\n",
      "\n",
      "Degrees of freedom <= 0 for slice\n",
      "\n",
      "/Users/juanarroyomiranda/Documents/Github/mlops-zoomcamp-project-2025/.venv/lib/python3.11/site-packages/numpy/lib/_function_base_impl.py:2914: RuntimeWarning:\n",
      "\n",
      "divide by zero encountered in divide\n",
      "\n",
      "/Users/juanarroyomiranda/Documents/Github/mlops-zoomcamp-project-2025/.venv/lib/python3.11/site-packages/numpy/lib/_function_base_impl.py:2914: RuntimeWarning:\n",
      "\n",
      "invalid value encountered in multiply\n",
      "\n",
      "/Users/juanarroyomiranda/Documents/Github/mlops-zoomcamp-project-2025/.venv/lib/python3.11/site-packages/scipy/stats/_stats_py.py:7400: RuntimeWarning:\n",
      "\n",
      "divide by zero encountered in divide\n",
      "\n",
      "/Users/juanarroyomiranda/Documents/Github/mlops-zoomcamp-project-2025/.venv/lib/python3.11/site-packages/scipy/stats/_stats_py.py:7400: RuntimeWarning:\n",
      "\n",
      "divide by zero encountered in divide\n",
      "\n",
      "/Users/juanarroyomiranda/Documents/Github/mlops-zoomcamp-project-2025/.venv/lib/python3.11/site-packages/numpy/lib/_function_base_impl.py:3057: RuntimeWarning:\n",
      "\n",
      "Degrees of freedom <= 0 for slice\n",
      "\n",
      "/Users/juanarroyomiranda/Documents/Github/mlops-zoomcamp-project-2025/.venv/lib/python3.11/site-packages/numpy/lib/_function_base_impl.py:2914: RuntimeWarning:\n",
      "\n",
      "divide by zero encountered in divide\n",
      "\n",
      "/Users/juanarroyomiranda/Documents/Github/mlops-zoomcamp-project-2025/.venv/lib/python3.11/site-packages/numpy/lib/_function_base_impl.py:2914: RuntimeWarning:\n",
      "\n",
      "invalid value encountered in multiply\n",
      "\n",
      "/Users/juanarroyomiranda/Documents/Github/mlops-zoomcamp-project-2025/.venv/lib/python3.11/site-packages/scipy/stats/_stats_py.py:7400: RuntimeWarning:\n",
      "\n",
      "divide by zero encountered in divide\n",
      "\n"
     ]
    }
   ],
   "source": [
    "for i in range(10, 30):\n",
    "    x = calculate_metrics(i)\n",
    "    print(i, x)"
   ]
  },
  {
   "cell_type": "code",
   "execution_count": 44,
   "metadata": {},
   "outputs": [],
   "source": [
    "current_dataset = Dataset.from_pandas(raw_data, data_definition=data_definition)\n",
    ")"
   ]
  },
  {
   "cell_type": "code",
   "execution_count": 46,
   "metadata": {},
   "outputs": [],
   "source": [
    "run = report.run(reference_data=reference_dataset, current_data=current_dataset)"
   ]
  },
  {
   "cell_type": "code",
   "execution_count": 47,
   "metadata": {},
   "outputs": [],
   "source": [
    "result = run.dict()"
   ]
  },
  {
   "cell_type": "code",
   "execution_count": 48,
   "metadata": {},
   "outputs": [
    {
     "data": {
      "text/plain": [
       "{'metrics': [{'id': 'bfc6e8246d39abff41fc2e002575d9a3',\n",
       "   'metric_id': 'ValueDrift(column=prediction)',\n",
       "   'value': np.float64(0.6617391044549499)},\n",
       "  {'id': '15e89f895b482f9b84ba7274ed18a106',\n",
       "   'metric_id': 'DriftedColumnsCount(drift_share=0.5)',\n",
       "   'value': {'count': 1.0, 'share': 0.07142857142857142}},\n",
       "  {'id': 'd57fce37e7dac2a48797649e0e142902',\n",
       "   'metric_id': 'MissingValueCount(column=prediction)',\n",
       "   'value': {'count': 0.0, 'share': np.float64(0.0)}}],\n",
       " 'tests': []}"
      ]
     },
     "execution_count": 48,
     "metadata": {},
     "output_type": "execute_result"
    }
   ],
   "source": [
    "result"
   ]
  }
 ],
 "metadata": {
  "kernelspec": {
   "display_name": ".venv",
   "language": "python",
   "name": "python3"
  },
  "language_info": {
   "codemirror_mode": {
    "name": "ipython",
    "version": 3
   },
   "file_extension": ".py",
   "mimetype": "text/x-python",
   "name": "python",
   "nbconvert_exporter": "python",
   "pygments_lexer": "ipython3",
   "version": "3.11.7"
  }
 },
 "nbformat": 4,
 "nbformat_minor": 2
}
